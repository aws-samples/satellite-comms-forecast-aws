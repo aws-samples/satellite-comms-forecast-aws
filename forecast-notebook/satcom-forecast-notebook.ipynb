{
 "cells": [
  {
   "cell_type": "markdown",
   "id": "26b630f5-51a0-4f6b-8c09-07fdb651b7f0",
   "metadata": {
    "tags": []
   },
   "source": [
    "# Satellite Communications Capacity prediction using Amazon Forecast\n",
    "\n",
    "Using Amazon Forecast involves the following 3 steps.\n",
    "\n",
    "![Amazon Forecast Workflow](https://github.com/aws-samples/amazon-forecast-samples/raw/main/notebooks/basic/Getting_Started/images/workflow.png)\n",
    "\n",
    "This notebook focuses on a Maritime shipping use-case. It uses Amazon Forecast to build a time series predictor model for each satellite beam in the ship(s) path, accounting for the impact of weather conditions in a given location. \n",
    "\n",
    "We start by importing historical bandwidth data for a set of spot-beams in the ship's route, along with related NOAA buoy data with the air-pressure (weather) in a location within the spot-beam. \n",
    "Next, we train a Predictor using this data. \n",
    "Finally, we generate a forecast for 1 day at 10 minute intervals and compare it with the actual data from that day.\n",
    "\n",
    "## Table of Contents\n",
    "* [Pre-requisites](#prerequisites)\n",
    "* Step 1: [Import your data](#import)\n",
    "* Step 2: [Train a predictor](#predictor)\n",
    "* Step 3: [Generate forecasts](#forecast)\n",
    "* BONUS! [Explaining the predictor](#explaining)\n",
    "* [Clean-up](#cleanup)"
   ]
  },
  {
   "cell_type": "markdown",
   "id": "308d9bcf-7d72-4837-b01d-5b926908cba4",
   "metadata": {
    "tags": []
   },
   "source": [
    "## Pre-requisites <a name=\"prerequisites\"></a>\n",
    "Before we get started, lets set up the notebook environment, the AWS SDK client for Amazon Forecast and IAM Role used by Amazon Forecast to access your data."
   ]
  },
  {
   "cell_type": "markdown",
   "id": "1b061c30-3367-4518-a1ba-1d8801a859f1",
   "metadata": {},
   "source": [
    "#### Setup Notebook Environment"
   ]
  },
  {
   "cell_type": "code",
   "execution_count": null,
   "id": "b8fb452c-a803-4fe3-814f-0e6da07128f0",
   "metadata": {
    "tags": []
   },
   "outputs": [],
   "source": [
    "!pip install pandas s3fs matplotlib ipywidgets\n",
    "!pip install boto3 --upgrade"
   ]
  },
  {
   "cell_type": "markdown",
   "id": "acb8fb2b-6392-4baf-a847-7c969cbe0dfa",
   "metadata": {},
   "source": [
    "#### Setup Imports"
   ]
  },
  {
   "cell_type": "code",
   "execution_count": null,
   "id": "479d5a31-7f83-448c-b7f8-b82477830d58",
   "metadata": {
    "tags": []
   },
   "outputs": [],
   "source": [
    "# Copyright Amazon.com, Inc. or its affiliates. All Rights Reserved.\n",
    "# SPDX-License-Identifier: MIT-0\n",
    "\n",
    "import sys\n",
    "import os\n",
    "import pandas as pd\n",
    "import boto3\n",
    "import botocore\n",
    "#import s3fs\n",
    "import numpy as np\n",
    "import json\n",
    "from sagemaker import get_execution_role\n",
    "\n",
    "# This notebook uses the util module from amazon-forecast-samples\n",
    "# https://github.com/aws-samples/amazon-forecast-samples\n",
    "# Make sure it is present in the util folder\n",
    "import util"
   ]
  },
  {
   "cell_type": "markdown",
   "id": "a0a583cd-35f3-4f2a-b7a2-a51363dacf2c",
   "metadata": {},
   "source": [
    "#### Create an instance of AWS SDK client for Amazon Forecast"
   ]
  },
  {
   "cell_type": "code",
   "execution_count": null,
   "id": "3d459bcc-526d-4f91-b165-6e747da5cbee",
   "metadata": {
    "tags": []
   },
   "outputs": [],
   "source": [
    "region = 'us-west-2'                 # edit to use your AWS region\n",
    "session = boto3.Session(region_name=region) \n",
    "forecast = session.client(service_name='forecast')\n",
    "forecastquery = session.client(service_name='forecastquery')\n",
    "\n",
    "# Checking to make sure we can communicate with Amazon Forecast\n",
    "assert forecast.list_predictors()"
   ]
  },
  {
   "cell_type": "markdown",
   "id": "bbf703b7-7e0e-46f8-baf3-c5419d033446",
   "metadata": {},
   "source": [
    "#### Setup IAM Role used by Amazon Forecast to access your data"
   ]
  },
  {
   "cell_type": "code",
   "execution_count": null,
   "id": "cfff3e73-135b-4a0d-9576-6f5326ef0771",
   "metadata": {
    "tags": []
   },
   "outputs": [],
   "source": [
    "# IAM role with full S3 access and full Forecast access is required\n",
    "role_name = \"ForecastNotebookRole-Basic\"\n",
    "print(f\"Creating Role {role_name}...\")\n",
    "role_arn = util.get_or_create_iam_role( role_name = role_name )\n",
    "\n",
    "# echo user inputs without account\n",
    "print(f\"Success! Created role = {role_arn.split('/')[1]}\")"
   ]
  },
  {
   "cell_type": "markdown",
   "id": "b12dd067-7065-4f9c-be70-0782c4c73b4f",
   "metadata": {},
   "source": [
    "## Step 1: Import your data. <a name=\"import\"></a>\n",
    "\n",
    "In this step, we will create a **Dataset** and import the TTS dataset of satellite bandwidth historical usage from S3 to Amazon Forecast. To train a Predictor we will need a **DatasetGroup** that groups the input **Datasets**. So, we will end this step by creating a **DatasetGroup** with the imported **Dataset**."
   ]
  },
  {
   "cell_type": "markdown",
   "id": "84add052-a161-4dba-a122-5e8190fe44cf",
   "metadata": {},
   "source": [
    "#### Peek at the data and upload it to S3.\n",
    "\n",
    "The dataset has the following 3 columns:\n",
    "1. **timestamp:** Timetamp at which pick-ups are requested.\n",
    "3. **target_value:** SatCom bandwidth usage in MHz by spot-beam.\n",
    "2. **item_id:** spot-beam name"
   ]
  },
  {
   "cell_type": "code",
   "execution_count": null,
   "id": "89db3d04-f606-4cd9-aae3-8145bad0e967",
   "metadata": {
    "tags": []
   },
   "outputs": [],
   "source": [
    "# *** Edit the following bucket name and key to access the TTS dataset *** \n",
    "bucket_name = \"forecast-satcom-capacity\"\n",
    "key=\"dataset/tts/satcom-cap_1691527103.csv\"\n",
    "\n",
    "def check_bucket_permission(bucket):\n",
    "    # check if the bucket exists\n",
    "    permission = False\n",
    "    try:\n",
    "        boto3.Session().client(\"s3\").head_bucket(Bucket=bucket)\n",
    "    except botocore.exceptions.ParamValidationError as e:\n",
    "        print(\n",
    "            \"Hey! You either forgot to specify your S3 bucket\"\n",
    "            \" or you gave your bucket an invalid name!\"\n",
    "        )\n",
    "    except botocore.exceptions.ClientError as e:\n",
    "        if e.response[\"Error\"][\"Code\"] == \"403\":\n",
    "            print(f\"Hey! You don't have permission to access the bucket, {bucket}.\")\n",
    "        elif e.response[\"Error\"][\"Code\"] == \"404\":\n",
    "            print(f\"Hey! Your bucket, {bucket}, doesn't exist!\")\n",
    "        else:\n",
    "            raise\n",
    "    else:\n",
    "        permission = True\n",
    "    return permission\n",
    "\n",
    "\n",
    "if check_bucket_permission(bucket_name):\n",
    "    print(f\"Using TTS dataset: s3://{bucket_name}/{key}\")"
   ]
  },
  {
   "cell_type": "markdown",
   "id": "a2be61e2-c174-4fd3-be89-f6eb547e5db8",
   "metadata": {},
   "source": [
    "#### Create the Target Time Series Dataset Group and Dataset"
   ]
  },
  {
   "cell_type": "code",
   "execution_count": null,
   "id": "61d61e18-9ad6-4d58-98c9-5a1385a379f9",
   "metadata": {
    "tags": []
   },
   "outputs": [],
   "source": [
    "DATA_VERSION = 3      # Increment the DATA_VERSION each time datasets are pushed into Amazon Forecast\n",
    "DATASET_FREQUENCY = \"10min\"           # set the frequency to whatever your timeseries intervals are\n",
    "PROJECT = 'SATCOM_BW'\n",
    "TS_DATASET_GRP = \"SATCOM_TS_GRP\"\n",
    "TS_DATASET = \"SATCOM_TTS\"\n",
    "TS_SCHEMA = {\n",
    "\t\"Attributes\": [\n",
    "\t\t{\n",
    "\t\t\t\"AttributeName\": \"timestamp\",\n",
    "\t\t\t\"AttributeType\": \"timestamp\"\n",
    "\t\t},\n",
    "\t\t{\n",
    "\t\t\t\"AttributeName\": \"target_value\",\n",
    "\t\t\t\"AttributeType\": \"float\"\n",
    "\t\t},\n",
    "\t\t{\n",
    "\t\t\t\"AttributeName\": \"item_id\",\n",
    "\t\t\t\"AttributeType\": \"string\"\n",
    "\t\t}\n",
    "\t]\n",
    "}\n",
    "\n",
    "dataset_group = f\"{PROJECT}_{TS_DATASET_GRP}_{DATA_VERSION}\"\n",
    "\n",
    "dataset_arns = []\n",
    "create_dataset_group_response = \\\n",
    "    forecast.create_dataset_group(Domain=\"CUSTOM\",\n",
    "                                  DatasetGroupName=dataset_group,\n",
    "                                  DatasetArns=dataset_arns)\n",
    "\n",
    "dataset_group_arn = create_dataset_group_response['DatasetGroupArn']\n",
    "\n",
    "forecast.describe_dataset_group(DatasetGroupArn=dataset_group_arn)\n",
    "\n",
    "\n",
    "ts_dataset_name = f\"{PROJECT}_{TS_DATASET}_{DATA_VERSION}\"\n",
    "\n",
    "create_dataset_response = forecast.create_dataset(Domain=\"CUSTOM\",\n",
    "                                                  DatasetType='TARGET_TIME_SERIES',\n",
    "                                                  DatasetName=ts_dataset_name,\n",
    "                                                  DataFrequency=DATASET_FREQUENCY,\n",
    "                                                  Schema=TS_SCHEMA)\n",
    "\n",
    "ts_dataset_arn = create_dataset_response['DatasetArn']\n",
    "describe_dataset_response = forecast.describe_dataset(DatasetArn=ts_dataset_arn)\n",
    "\n",
    "print(f\"The Dataset with ARN {ts_dataset_arn} is now {describe_dataset_response['Status']}.\")\n",
    "\n",
    "dataset_arns = []\n",
    "dataset_arns.append(ts_dataset_arn)\n",
    "forecast.update_dataset_group(DatasetGroupArn=dataset_group_arn, DatasetArns=dataset_arns)"
   ]
  },
  {
   "cell_type": "markdown",
   "id": "d4bf392b-beee-4d52-bf42-11e5fa33dd2e",
   "metadata": {},
   "source": [
    "#### Importing the Dataset"
   ]
  },
  {
   "cell_type": "code",
   "execution_count": null,
   "id": "2abcb47d-9449-4a59-8c68-8404a9817177",
   "metadata": {
    "tags": []
   },
   "outputs": [],
   "source": [
    "TIMESTAMP_FORMAT = \"yyyy-MM-dd HH:mm:ss\"\n",
    "\n",
    "ts_s3_data_path = \"s3://\"+bucket_name+\"/\"+key\n",
    "print(f\"S3 URI for your data file = {ts_s3_data_path}\")\n",
    "\n",
    "# here we just import a single CSV however you can specify a path to an S3 bucket folder for up to 10000 files\n",
    "ts_dataset_import_job_response = \\\n",
    "    forecast.create_dataset_import_job(DatasetImportJobName=dataset_group,\n",
    "                                       DatasetArn=ts_dataset_arn,\n",
    "                                       DataSource= {\n",
    "                                         \"S3Config\" : {\n",
    "                                             \"Path\": ts_s3_data_path,\n",
    "                                             \"RoleArn\": role_arn\n",
    "                                         } \n",
    "                                       },\n",
    "                                       TimestampFormat=TIMESTAMP_FORMAT)\n",
    "\n",
    "ts_dataset_import_job_arn = ts_dataset_import_job_response['DatasetImportJobArn']\n",
    "describe_dataset_import_job_response = forecast.describe_dataset_import_job(DatasetImportJobArn=ts_dataset_import_job_arn)\n",
    "\n",
    "print(f\"Waiting for Dataset Import Job with ARN {ts_dataset_import_job_arn} to become ACTIVE. This process could take 5-10 minutes.\\n\\nCurrent Status:\")\n",
    "\n",
    "status = util.wait(lambda: forecast.describe_dataset_import_job(DatasetImportJobArn=ts_dataset_import_job_arn))\n",
    "\n",
    "describe_dataset_import_job_response = forecast.describe_dataset_import_job(DatasetImportJobArn=ts_dataset_import_job_arn)\n",
    "print(f\"\\n\\nThe Dataset Import Job with ARN {ts_dataset_import_job_arn} is now {describe_dataset_import_job_response['Status']}.\")"
   ]
  },
  {
   "cell_type": "markdown",
   "id": "519eb5ea-1929-4bd4-928f-ee730fee0974",
   "metadata": {},
   "source": [
    "#### Create the Related Time Series Dataset"
   ]
  },
  {
   "cell_type": "code",
   "execution_count": null,
   "id": "4e610dd4-0782-41d4-99f2-cc7e4c77f18d",
   "metadata": {
    "tags": []
   },
   "outputs": [],
   "source": [
    "related_ts_dataset_name = f\"{PROJECT+'_RTS'}_{DATA_VERSION}\"\n",
    "RTS_SCHEMA = {\n",
    "\t\"Attributes\": [\n",
    "\t\t{\n",
    "\t\t\t\"AttributeName\": \"timestamp\",\n",
    "\t\t\t\"AttributeType\": \"timestamp\"\n",
    "\t\t},\n",
    "\t\t{\n",
    "\t\t\t\"AttributeName\": \"air_pressure\",\n",
    "\t\t\t\"AttributeType\": \"integer\"\n",
    "\t\t},\n",
    "\t\t{\n",
    "\t\t\t\"AttributeName\": \"item_id\",\n",
    "\t\t\t\"AttributeType\": \"string\"\n",
    "\t\t},\n",
    "\t\t{\n",
    "\t\t\t\"AttributeName\": \"day_of_week\",\n",
    "\t\t\t\"AttributeType\": \"integer\"\n",
    "\t\t},\n",
    "\t\t{\n",
    "\t\t\t\"AttributeName\": \"hour_of_day\",\n",
    "\t\t\t\"AttributeType\": \"integer\"\n",
    "\t\t}\n",
    "\t]\n",
    "}\n",
    "\n",
    "response = \\\n",
    "forecast.create_dataset(Domain=\"CUSTOM\",\n",
    "                        DatasetType='RELATED_TIME_SERIES',\n",
    "                        DatasetName=related_ts_dataset_name,\n",
    "                        DataFrequency=DATASET_FREQUENCY,\n",
    "                        Schema=RTS_SCHEMA\n",
    "                       )\n",
    "\n",
    "related_ts_dataset_arn = response['DatasetArn']\n",
    "\n",
    "forecast.describe_dataset(DatasetArn=related_ts_dataset_arn)\n",
    "\n",
    "dataset_arns.append(related_ts_dataset_arn)\n",
    "forecast.update_dataset_group(DatasetGroupArn=dataset_group_arn, DatasetArns=dataset_arns)"
   ]
  },
  {
   "cell_type": "markdown",
   "id": "9ce23b36-b471-49ac-bce9-33c02470a656",
   "metadata": {},
   "source": [
    "#### Create Related Time Series Dataset Import Job"
   ]
  },
  {
   "cell_type": "code",
   "execution_count": null,
   "id": "428afc1d-7f24-4c74-be2c-a7531481a8ae",
   "metadata": {
    "tags": []
   },
   "outputs": [],
   "source": [
    "related_time_series_key = \"dataset/rts/maritime-weather_1691527103.csv\"\n",
    "related_ts_s3_data_path = \"s3://\"+bucket_name+\"/\"+related_time_series_key\n",
    "print(f\"S3 URI for your data file = {related_ts_s3_data_path}\")\n",
    "\n",
    "# here we just import a single CSV however you can specify a path to an S3 bucket folder for up to 10000 files\n",
    "related_ts_dataset_import_job_response = \\\n",
    "    forecast.create_dataset_import_job(DatasetImportJobName=dataset_group,\n",
    "                                       DatasetArn=related_ts_dataset_arn,\n",
    "                                       DataSource= {\n",
    "                                         \"S3Config\" : {\n",
    "                                             \"Path\": related_ts_s3_data_path,\n",
    "                                             \"RoleArn\": role_arn\n",
    "                                         } \n",
    "                                       },\n",
    "                                       TimestampFormat=TIMESTAMP_FORMAT)\n",
    "\n",
    "related_ts_dataset_import_job_arn=related_ts_dataset_import_job_response['DatasetImportJobArn']\n",
    "\n",
    "print(f\"Waiting for Dataset Import Job with ARN {related_ts_dataset_import_job_arn} to become ACTIVE. This process could take 5-10 minutes.\\n\\nCurrent Status:\")\n",
    "\n",
    "status = util.wait(lambda: forecast.describe_dataset_import_job(DatasetImportJobArn=related_ts_dataset_import_job_arn))\n",
    "\n",
    "describe_dataset_import_job_response = forecast.describe_dataset_import_job(DatasetImportJobArn=related_ts_dataset_import_job_arn)\n",
    "print(f\"\\n\\nThe Dataset Import Job with ARN {related_ts_dataset_import_job_arn} is now {describe_dataset_import_job_response['Status']}.\")"
   ]
  },
  {
   "cell_type": "markdown",
   "id": "11f20bed-c206-428b-8c26-bee46b4dd702",
   "metadata": {},
   "source": [
    "## <a class=\"anchor\" id=\"predictor\"></a>Step 2: Train a predictor \n",
    "\n",
    "In this step, we will create a **Predictor** using the **DatasetGroup** that was created above. After creating the predictor, we will review the accuracy obtained through the backtesting process to get a quantitative understanding of the performance of the predictor."
   ]
  },
  {
   "cell_type": "markdown",
   "id": "ffe656fd-e0ff-4ab3-83d9-1bc5aed16059",
   "metadata": {},
   "source": [
    "#### Train a predictor"
   ]
  },
  {
   "cell_type": "code",
   "execution_count": null,
   "id": "1b7da60b-1cbc-4ea3-81f8-3412ab1338eb",
   "metadata": {
    "tags": []
   },
   "outputs": [],
   "source": [
    "PREDICTOR_NAME = \"SATCOM_PREDICTOR\"\n",
    "FORECAST_HORIZON = 144        # RTS forecast : 1d (10 min granularity : 6 * 24)\n",
    "FORECAST_FREQUENCY = \"10min\"\n",
    "\n",
    "create_auto_predictor_response = \\\n",
    "    forecast.create_auto_predictor(PredictorName = PREDICTOR_NAME,\n",
    "                                   ForecastHorizon = FORECAST_HORIZON,\n",
    "                                   ForecastFrequency = FORECAST_FREQUENCY,\n",
    "                                   DataConfig = {\n",
    "                                       'DatasetGroupArn': dataset_group_arn\n",
    "                                    },\n",
    "                                   ExplainPredictor = True)\n",
    "\n",
    "predictor_arn = create_auto_predictor_response['PredictorArn']\n",
    "print(f\"Waiting for Predictor with ARN {predictor_arn} to become ACTIVE. Depending on data size and predictor setting，it can take several hours to be ACTIVE.\\n\\nCurrent Status:\")\n",
    "\n",
    "status = util.wait(lambda: forecast.describe_auto_predictor(PredictorArn=predictor_arn))\n",
    "\n",
    "describe_auto_predictor_response = forecast.describe_auto_predictor(PredictorArn=predictor_arn)\n",
    "print(f\"\\n\\nThe Predictor with ARN {predictor_arn} is now {describe_auto_predictor_response['Status']}.\")"
   ]
  },
  {
   "cell_type": "markdown",
   "id": "5e519266-8533-4a22-aac5-0ea46593a146",
   "metadata": {},
   "source": [
    "#### Review accuracy metrics\n",
    "\n",
    "* **Weighted Quantile Loss (wQL)** metric measures the accuracy of a model at a specified quantile. It is particularly useful when there are different costs for underpredicting and overpredicting. The P90 wQL is useful since Satellite Operators typically want to slightly overprovision ensuring consumers have enough bandwidth the majority of the time\n",
    "\n",
    "* **Root Mean Square Error (RMSE)** uses the squared value of the residuals, which amplifies the impact of outliers. In use cases where only a few large mispredictions can be very costly, the RMSE is the more relevant metric.\n",
    "\n",
    "* **Weighted Absolute Percentage Error (WAPE)** is more robust to outliers than Root Mean Square Error (RMSE) because it uses the absolute error instead of the squared error.\n",
    "\n",
    "* **Mean Absolute Percentage Error (MAPE)** is useful for cases where values differ significantly between time points and outliers have a significant impact.\n",
    "\n",
    "* **Mean Absolute Scaled Error (MASE)** is ideal for datasets that are cyclical in nature or have seasonal properties."
   ]
  },
  {
   "cell_type": "code",
   "execution_count": null,
   "id": "05190a1e-f7a8-449f-a43e-2bc1456c65c3",
   "metadata": {
    "tags": []
   },
   "outputs": [],
   "source": [
    "get_accuracy_metrics_response = forecast.get_accuracy_metrics(PredictorArn=predictor_arn)\n",
    "wql = get_accuracy_metrics_response['PredictorEvaluationResults'][0]['TestWindows'][0]['Metrics']['WeightedQuantileLosses']\n",
    "accuracy_scores = get_accuracy_metrics_response['PredictorEvaluationResults'][0]['TestWindows'][0]['Metrics']['ErrorMetrics'][0]\n",
    "\n",
    "print(f\"Weighted Quantile Loss (wQL): {json.dumps(wql, indent=2)}\\n\")\n",
    "\n",
    "print(f\"Root Mean Square Error (RMSE): {accuracy_scores['RMSE']}\\n\")\n",
    "\n",
    "print(f\"Weighted Absolute Percentage Error (WAPE): {accuracy_scores['WAPE']}\\n\")\n",
    "\n",
    "print(f\"Mean Absolute Percentage Error (MAPE): {accuracy_scores['MAPE']}\\n\")\n",
    "\n",
    "print(f\"Mean Absolute Scaled Error (MASE): {accuracy_scores['MASE']}\\n\")"
   ]
  },
  {
   "cell_type": "markdown",
   "id": "dc8a326d-ce32-425a-bc9f-d5bdb0c46c66",
   "metadata": {},
   "source": [
    "## Step 3: Generate forecasts <a name=\"forecast\"></a>\n",
    "Finally, we will generate the forecasts using the above predictor and demonstrate actual performance of Amazon Forecast on this dataset."
   ]
  },
  {
   "cell_type": "markdown",
   "id": "e864147e-c0d7-4e83-9b58-c402743a7ba0",
   "metadata": {},
   "source": [
    "#### Generate forecasts"
   ]
  },
  {
   "cell_type": "code",
   "execution_count": null,
   "id": "42e44edb-6468-4b40-8133-4f74e409c966",
   "metadata": {},
   "outputs": [],
   "source": [
    "FORECAST_NAME = \"SATCOM_FORECAST\"\n",
    "\n",
    "# by default we get a P10, P50, P90 wQL - we are most interested in the P90 wQL\n",
    "create_forecast_response = \\\n",
    "    forecast.create_forecast(ForecastName=FORECAST_NAME,\n",
    "                             PredictorArn=predictor_arn)\n",
    "\n",
    "forecast_arn = create_forecast_response['ForecastArn']\n",
    "print(f\"Waiting for Forecast with ARN {forecast_arn} to become ACTIVE. Depending on data size and predictor settings，it can take several hours to be ACTIVE.\\n\\nCurrent Status:\")\n",
    "\n",
    "status = util.wait(lambda: forecast.describe_forecast(ForecastArn=forecast_arn))\n",
    "\n",
    "describe_forecast_response = forecast.describe_forecast(ForecastArn=forecast_arn)\n",
    "print(f\"\\n\\nThe Forecast with ARN {forecast_arn} is now {describe_forecast_response['Status']}.\")"
   ]
  },
  {
   "cell_type": "markdown",
   "id": "9fd926b0-a519-4cc1-bbb5-92f40ecc2263",
   "metadata": {},
   "source": [
    "#### Export forecast to S3"
   ]
  },
  {
   "cell_type": "code",
   "execution_count": null,
   "id": "2042c224-ddec-4702-af01-1408cbc983e4",
   "metadata": {
    "tags": []
   },
   "outputs": [],
   "source": [
    "FORECAST_EXPORT_JOB_NAME = FORECAST_NAME + \"_export_job\"\n",
    "FORECAST_EXPORT_JOB_DESTINATION = f\"s3://{bucket_name}/forecast-export-results/\"\n",
    "\n",
    "forecast_export_response = forecast.create_forecast_export_job(\n",
    "                                                                       ForecastExportJobName=FORECAST_EXPORT_JOB_NAME,\n",
    "                                                                       ForecastArn=forecast_arn, \n",
    "                                                                       Destination={\n",
    "                                                                           \"S3Config\": {\n",
    "                                                                               \"Path\": FORECAST_EXPORT_JOB_DESTINATION,\n",
    "                                                                               \"RoleArn\": role_arn}\n",
    "                                                                            }\n",
    "                                                                      )\n",
    "\n",
    "forecast_export_arn = forecast_export_response['ForecastExportJobArn']\n",
    "\n",
    "status = util.wait(lambda: forecast.describe_forecast_export_job(ForecastExportJobArn=forecast_export_arn))\n",
    "\n",
    "describe_forecast_export_response = forecast.describe_forecast_export_job(ForecastExportJobArn=forecast_export_arn)\n",
    "print(f\"\\n\\nThe forecast_export with ARN {forecast_export_arn} is now {describe_forecast_export_response['Status']}.\")"
   ]
  },
  {
   "cell_type": "markdown",
   "id": "9b0937f3-02d3-441d-b82d-7a91abf20bdd",
   "metadata": {},
   "source": [
    "#### Query forecast for a specific item_id"
   ]
  },
  {
   "cell_type": "code",
   "execution_count": null,
   "id": "b66d38e6-476a-4c68-815a-ab44c8c111ff",
   "metadata": {},
   "outputs": [],
   "source": [
    "ITEM_ID = \"SpotH12\"\n",
    "\n",
    "forecast_response = forecastquery.query_forecast(\n",
    "    ForecastArn=forecast_arn,\n",
    "    Filters={\"item_id\": ITEM_ID}\n",
    ")\n",
    "\n",
    "# P90 WQL indicates the confidence level of the true value being lower than the predicted value 90% of the time\n",
    "forecasts_p90_df = pd.DataFrame.from_dict(forecast_response['Forecast']['Predictions']['p90'])"
   ]
  },
  {
   "cell_type": "code",
   "execution_count": null,
   "id": "19f787e3-aee4-49d7-98f0-bfc82f7e73a2",
   "metadata": {
    "tags": []
   },
   "outputs": [],
   "source": [
    "forecasts_p90_df.head(5)"
   ]
  },
  {
   "cell_type": "code",
   "execution_count": null,
   "id": "c76b402c-568d-4e3b-b138-c177e29a6375",
   "metadata": {
    "tags": []
   },
   "outputs": [],
   "source": [
    "import matplotlib.pyplot as plt\n",
    "from matplotlib.ticker import MaxNLocator\n",
    "\n",
    "\n",
    "p90_title = ITEM_ID + '-plot-P90-forecast'\n",
    "x = forecasts_p90_df['Timestamp']\n",
    "y = forecasts_p90_df['Value']\n",
    "\n",
    "fig, ax = plt.subplots(1, 1, figsize=(15, 5))\n",
    "ax.plot(x,y)\n",
    "ax.set_title(p90_title)\n",
    "ax.set_xlabel('timestamp')\n",
    "ax.set_ylabel('MHz')\n",
    "ax.tick_params(axis='x', rotation=90)\n",
    "\n",
    "locator=MaxNLocator(prune='both', nbins=24)\n",
    "ax.xaxis.set_major_locator(locator)\n",
    "\n",
    "#plt.show()\n",
    "fig"
   ]
  },
  {
   "cell_type": "markdown",
   "id": "703ac462-5d10-4caa-9122-390e005494b9",
   "metadata": {},
   "source": [
    "## BONUS! Explaining the predictor <a class=\"anchor\" id=\"explaining\"></a>\n",
    "In Step 1, we added an additional RTS dataset - weather data - before creating the predictor. Let us now see how impactful the additional dataset feature was. You can do the same for additional datasets that you bring in."
   ]
  },
  {
   "cell_type": "code",
   "execution_count": null,
   "id": "3997473d-9bd6-4147-b21a-5ab0c73817e3",
   "metadata": {
    "tags": []
   },
   "outputs": [],
   "source": [
    "account_id = session.client(\"sts\").get_caller_identity()[\"Account\"]\n",
    "explainability_arn = \"arn:aws:forecast:\" + region + \":\" + account_id + \":explainability/\" + PREDICTOR_NAME\n",
    "print(explainability_arn)"
   ]
  },
  {
   "cell_type": "code",
   "execution_count": null,
   "id": "01f49f2d-1d65-42e5-bc55-892927654451",
   "metadata": {},
   "outputs": [],
   "source": [
    "EXPLAINABILITY_EXPORT_NAME = \"SATCOM_PREDICTOR_EXPLANATION_EXPORT\"\n",
    "EXPLAINABILITY_EXPORT_DESTINATION = f\"s3://{bucket_name}/explanation/{EXPLAINABILITY_EXPORT_NAME}\"\n",
    "\n",
    "explainability_export_response = forecast.create_explainability_export(ExplainabilityExportName=EXPLAINABILITY_EXPORT_NAME, \n",
    "                                                                       ExplainabilityArn=explainability_arn, \n",
    "                                                                       Destination={\n",
    "                                                                           \"S3Config\": {\n",
    "                                                                               \"Path\": EXPLAINABILITY_EXPORT_DESTINATION,\n",
    "                                                                               \"RoleArn\": role_arn}\n",
    "                                                                            }\n",
    "                                                                      )\n",
    "\n",
    "explainability_export_arn = explainability_export_response['ExplainabilityExportArn']\n",
    "\n",
    "status = util.wait(lambda: forecast.describe_explainability_export(ExplainabilityExportArn=explainability_export_arn))\n",
    "\n",
    "describe_explainability_export_response = forecast.describe_explainability_export(ExplainabilityExportArn=explainability_export_arn)\n",
    "print(f\"\\n\\nThe explainability_export with ARN {explainability_export_arn} is now {describe_explainability_export_response['Status']}.\")"
   ]
  },
  {
   "cell_type": "markdown",
   "id": "5f5a1227-dfa7-495b-9613-bba550d3192c",
   "metadata": {
    "tags": []
   },
   "source": [
    "* **Impact scores** measure the relative impact attributes have on forecast values. The largest value has the most impact on the model\n",
    "* **Impact scores** also provide information on whether an attribute increases or decreases the forecasted value. A negative impact scores reflects that the attribute tends to decrease the value of the forecast."
   ]
  },
  {
   "cell_type": "markdown",
   "id": "9c91ba88-7877-4a8d-bca0-f8800dcaefbe",
   "metadata": {},
   "source": [
    "## Clean-up <a class=\"anchor\" id=\"cleanup\"></a>\n",
    "Uncomment the code section to delete all resources that were created in this notebook.\n",
    "The delete calls return immediately, however the actual resource deletion may take up to 15 minutes\n",
    "See https://docs.aws.amazon.com/forecast/latest/dg/delete-resource.html to review resource trees hierarchy\n",
    "NOTE - none of the S3 artifacts will be deleted!"
   ]
  },
  {
   "cell_type": "code",
   "execution_count": null,
   "id": "172501bb-3cee-412f-81e0-f59e897230db",
   "metadata": {},
   "outputs": [],
   "source": [
    "# forecast.delete_resource_tree(ResourceArn = dataset_group_arn)\n",
    "# forecast.delete_resource_tree(ResourceArn = ts_dataset_arn)\n",
    "# forecast.delete_resource_tree(ResourceArn = related_ts_dataset_arn)"
   ]
  },
  {
   "cell_type": "code",
   "execution_count": null,
   "id": "2fac8092-b760-47f4-b612-84490fb74006",
   "metadata": {},
   "outputs": [],
   "source": []
  }
 ],
 "metadata": {
  "availableInstances": [
   {
    "_defaultOrder": 0,
    "_isFastLaunch": true,
    "category": "General purpose",
    "gpuNum": 0,
    "hideHardwareSpecs": false,
    "memoryGiB": 4,
    "name": "ml.t3.medium",
    "vcpuNum": 2
   },
   {
    "_defaultOrder": 1,
    "_isFastLaunch": false,
    "category": "General purpose",
    "gpuNum": 0,
    "hideHardwareSpecs": false,
    "memoryGiB": 8,
    "name": "ml.t3.large",
    "vcpuNum": 2
   },
   {
    "_defaultOrder": 2,
    "_isFastLaunch": false,
    "category": "General purpose",
    "gpuNum": 0,
    "hideHardwareSpecs": false,
    "memoryGiB": 16,
    "name": "ml.t3.xlarge",
    "vcpuNum": 4
   },
   {
    "_defaultOrder": 3,
    "_isFastLaunch": false,
    "category": "General purpose",
    "gpuNum": 0,
    "hideHardwareSpecs": false,
    "memoryGiB": 32,
    "name": "ml.t3.2xlarge",
    "vcpuNum": 8
   },
   {
    "_defaultOrder": 4,
    "_isFastLaunch": true,
    "category": "General purpose",
    "gpuNum": 0,
    "hideHardwareSpecs": false,
    "memoryGiB": 8,
    "name": "ml.m5.large",
    "vcpuNum": 2
   },
   {
    "_defaultOrder": 5,
    "_isFastLaunch": false,
    "category": "General purpose",
    "gpuNum": 0,
    "hideHardwareSpecs": false,
    "memoryGiB": 16,
    "name": "ml.m5.xlarge",
    "vcpuNum": 4
   },
   {
    "_defaultOrder": 6,
    "_isFastLaunch": false,
    "category": "General purpose",
    "gpuNum": 0,
    "hideHardwareSpecs": false,
    "memoryGiB": 32,
    "name": "ml.m5.2xlarge",
    "vcpuNum": 8
   },
   {
    "_defaultOrder": 7,
    "_isFastLaunch": false,
    "category": "General purpose",
    "gpuNum": 0,
    "hideHardwareSpecs": false,
    "memoryGiB": 64,
    "name": "ml.m5.4xlarge",
    "vcpuNum": 16
   },
   {
    "_defaultOrder": 8,
    "_isFastLaunch": false,
    "category": "General purpose",
    "gpuNum": 0,
    "hideHardwareSpecs": false,
    "memoryGiB": 128,
    "name": "ml.m5.8xlarge",
    "vcpuNum": 32
   },
   {
    "_defaultOrder": 9,
    "_isFastLaunch": false,
    "category": "General purpose",
    "gpuNum": 0,
    "hideHardwareSpecs": false,
    "memoryGiB": 192,
    "name": "ml.m5.12xlarge",
    "vcpuNum": 48
   },
   {
    "_defaultOrder": 10,
    "_isFastLaunch": false,
    "category": "General purpose",
    "gpuNum": 0,
    "hideHardwareSpecs": false,
    "memoryGiB": 256,
    "name": "ml.m5.16xlarge",
    "vcpuNum": 64
   },
   {
    "_defaultOrder": 11,
    "_isFastLaunch": false,
    "category": "General purpose",
    "gpuNum": 0,
    "hideHardwareSpecs": false,
    "memoryGiB": 384,
    "name": "ml.m5.24xlarge",
    "vcpuNum": 96
   },
   {
    "_defaultOrder": 12,
    "_isFastLaunch": false,
    "category": "General purpose",
    "gpuNum": 0,
    "hideHardwareSpecs": false,
    "memoryGiB": 8,
    "name": "ml.m5d.large",
    "vcpuNum": 2
   },
   {
    "_defaultOrder": 13,
    "_isFastLaunch": false,
    "category": "General purpose",
    "gpuNum": 0,
    "hideHardwareSpecs": false,
    "memoryGiB": 16,
    "name": "ml.m5d.xlarge",
    "vcpuNum": 4
   },
   {
    "_defaultOrder": 14,
    "_isFastLaunch": false,
    "category": "General purpose",
    "gpuNum": 0,
    "hideHardwareSpecs": false,
    "memoryGiB": 32,
    "name": "ml.m5d.2xlarge",
    "vcpuNum": 8
   },
   {
    "_defaultOrder": 15,
    "_isFastLaunch": false,
    "category": "General purpose",
    "gpuNum": 0,
    "hideHardwareSpecs": false,
    "memoryGiB": 64,
    "name": "ml.m5d.4xlarge",
    "vcpuNum": 16
   },
   {
    "_defaultOrder": 16,
    "_isFastLaunch": false,
    "category": "General purpose",
    "gpuNum": 0,
    "hideHardwareSpecs": false,
    "memoryGiB": 128,
    "name": "ml.m5d.8xlarge",
    "vcpuNum": 32
   },
   {
    "_defaultOrder": 17,
    "_isFastLaunch": false,
    "category": "General purpose",
    "gpuNum": 0,
    "hideHardwareSpecs": false,
    "memoryGiB": 192,
    "name": "ml.m5d.12xlarge",
    "vcpuNum": 48
   },
   {
    "_defaultOrder": 18,
    "_isFastLaunch": false,
    "category": "General purpose",
    "gpuNum": 0,
    "hideHardwareSpecs": false,
    "memoryGiB": 256,
    "name": "ml.m5d.16xlarge",
    "vcpuNum": 64
   },
   {
    "_defaultOrder": 19,
    "_isFastLaunch": false,
    "category": "General purpose",
    "gpuNum": 0,
    "hideHardwareSpecs": false,
    "memoryGiB": 384,
    "name": "ml.m5d.24xlarge",
    "vcpuNum": 96
   },
   {
    "_defaultOrder": 20,
    "_isFastLaunch": false,
    "category": "General purpose",
    "gpuNum": 0,
    "hideHardwareSpecs": true,
    "memoryGiB": 0,
    "name": "ml.geospatial.interactive",
    "supportedImageNames": [
     "sagemaker-geospatial-v1-0"
    ],
    "vcpuNum": 0
   },
   {
    "_defaultOrder": 21,
    "_isFastLaunch": true,
    "category": "Compute optimized",
    "gpuNum": 0,
    "hideHardwareSpecs": false,
    "memoryGiB": 4,
    "name": "ml.c5.large",
    "vcpuNum": 2
   },
   {
    "_defaultOrder": 22,
    "_isFastLaunch": false,
    "category": "Compute optimized",
    "gpuNum": 0,
    "hideHardwareSpecs": false,
    "memoryGiB": 8,
    "name": "ml.c5.xlarge",
    "vcpuNum": 4
   },
   {
    "_defaultOrder": 23,
    "_isFastLaunch": false,
    "category": "Compute optimized",
    "gpuNum": 0,
    "hideHardwareSpecs": false,
    "memoryGiB": 16,
    "name": "ml.c5.2xlarge",
    "vcpuNum": 8
   },
   {
    "_defaultOrder": 24,
    "_isFastLaunch": false,
    "category": "Compute optimized",
    "gpuNum": 0,
    "hideHardwareSpecs": false,
    "memoryGiB": 32,
    "name": "ml.c5.4xlarge",
    "vcpuNum": 16
   },
   {
    "_defaultOrder": 25,
    "_isFastLaunch": false,
    "category": "Compute optimized",
    "gpuNum": 0,
    "hideHardwareSpecs": false,
    "memoryGiB": 72,
    "name": "ml.c5.9xlarge",
    "vcpuNum": 36
   },
   {
    "_defaultOrder": 26,
    "_isFastLaunch": false,
    "category": "Compute optimized",
    "gpuNum": 0,
    "hideHardwareSpecs": false,
    "memoryGiB": 96,
    "name": "ml.c5.12xlarge",
    "vcpuNum": 48
   },
   {
    "_defaultOrder": 27,
    "_isFastLaunch": false,
    "category": "Compute optimized",
    "gpuNum": 0,
    "hideHardwareSpecs": false,
    "memoryGiB": 144,
    "name": "ml.c5.18xlarge",
    "vcpuNum": 72
   },
   {
    "_defaultOrder": 28,
    "_isFastLaunch": false,
    "category": "Compute optimized",
    "gpuNum": 0,
    "hideHardwareSpecs": false,
    "memoryGiB": 192,
    "name": "ml.c5.24xlarge",
    "vcpuNum": 96
   },
   {
    "_defaultOrder": 29,
    "_isFastLaunch": true,
    "category": "Accelerated computing",
    "gpuNum": 1,
    "hideHardwareSpecs": false,
    "memoryGiB": 16,
    "name": "ml.g4dn.xlarge",
    "vcpuNum": 4
   },
   {
    "_defaultOrder": 30,
    "_isFastLaunch": false,
    "category": "Accelerated computing",
    "gpuNum": 1,
    "hideHardwareSpecs": false,
    "memoryGiB": 32,
    "name": "ml.g4dn.2xlarge",
    "vcpuNum": 8
   },
   {
    "_defaultOrder": 31,
    "_isFastLaunch": false,
    "category": "Accelerated computing",
    "gpuNum": 1,
    "hideHardwareSpecs": false,
    "memoryGiB": 64,
    "name": "ml.g4dn.4xlarge",
    "vcpuNum": 16
   },
   {
    "_defaultOrder": 32,
    "_isFastLaunch": false,
    "category": "Accelerated computing",
    "gpuNum": 1,
    "hideHardwareSpecs": false,
    "memoryGiB": 128,
    "name": "ml.g4dn.8xlarge",
    "vcpuNum": 32
   },
   {
    "_defaultOrder": 33,
    "_isFastLaunch": false,
    "category": "Accelerated computing",
    "gpuNum": 4,
    "hideHardwareSpecs": false,
    "memoryGiB": 192,
    "name": "ml.g4dn.12xlarge",
    "vcpuNum": 48
   },
   {
    "_defaultOrder": 34,
    "_isFastLaunch": false,
    "category": "Accelerated computing",
    "gpuNum": 1,
    "hideHardwareSpecs": false,
    "memoryGiB": 256,
    "name": "ml.g4dn.16xlarge",
    "vcpuNum": 64
   },
   {
    "_defaultOrder": 35,
    "_isFastLaunch": false,
    "category": "Accelerated computing",
    "gpuNum": 1,
    "hideHardwareSpecs": false,
    "memoryGiB": 61,
    "name": "ml.p3.2xlarge",
    "vcpuNum": 8
   },
   {
    "_defaultOrder": 36,
    "_isFastLaunch": false,
    "category": "Accelerated computing",
    "gpuNum": 4,
    "hideHardwareSpecs": false,
    "memoryGiB": 244,
    "name": "ml.p3.8xlarge",
    "vcpuNum": 32
   },
   {
    "_defaultOrder": 37,
    "_isFastLaunch": false,
    "category": "Accelerated computing",
    "gpuNum": 8,
    "hideHardwareSpecs": false,
    "memoryGiB": 488,
    "name": "ml.p3.16xlarge",
    "vcpuNum": 64
   },
   {
    "_defaultOrder": 38,
    "_isFastLaunch": false,
    "category": "Accelerated computing",
    "gpuNum": 8,
    "hideHardwareSpecs": false,
    "memoryGiB": 768,
    "name": "ml.p3dn.24xlarge",
    "vcpuNum": 96
   },
   {
    "_defaultOrder": 39,
    "_isFastLaunch": false,
    "category": "Memory Optimized",
    "gpuNum": 0,
    "hideHardwareSpecs": false,
    "memoryGiB": 16,
    "name": "ml.r5.large",
    "vcpuNum": 2
   },
   {
    "_defaultOrder": 40,
    "_isFastLaunch": false,
    "category": "Memory Optimized",
    "gpuNum": 0,
    "hideHardwareSpecs": false,
    "memoryGiB": 32,
    "name": "ml.r5.xlarge",
    "vcpuNum": 4
   },
   {
    "_defaultOrder": 41,
    "_isFastLaunch": false,
    "category": "Memory Optimized",
    "gpuNum": 0,
    "hideHardwareSpecs": false,
    "memoryGiB": 64,
    "name": "ml.r5.2xlarge",
    "vcpuNum": 8
   },
   {
    "_defaultOrder": 42,
    "_isFastLaunch": false,
    "category": "Memory Optimized",
    "gpuNum": 0,
    "hideHardwareSpecs": false,
    "memoryGiB": 128,
    "name": "ml.r5.4xlarge",
    "vcpuNum": 16
   },
   {
    "_defaultOrder": 43,
    "_isFastLaunch": false,
    "category": "Memory Optimized",
    "gpuNum": 0,
    "hideHardwareSpecs": false,
    "memoryGiB": 256,
    "name": "ml.r5.8xlarge",
    "vcpuNum": 32
   },
   {
    "_defaultOrder": 44,
    "_isFastLaunch": false,
    "category": "Memory Optimized",
    "gpuNum": 0,
    "hideHardwareSpecs": false,
    "memoryGiB": 384,
    "name": "ml.r5.12xlarge",
    "vcpuNum": 48
   },
   {
    "_defaultOrder": 45,
    "_isFastLaunch": false,
    "category": "Memory Optimized",
    "gpuNum": 0,
    "hideHardwareSpecs": false,
    "memoryGiB": 512,
    "name": "ml.r5.16xlarge",
    "vcpuNum": 64
   },
   {
    "_defaultOrder": 46,
    "_isFastLaunch": false,
    "category": "Memory Optimized",
    "gpuNum": 0,
    "hideHardwareSpecs": false,
    "memoryGiB": 768,
    "name": "ml.r5.24xlarge",
    "vcpuNum": 96
   },
   {
    "_defaultOrder": 47,
    "_isFastLaunch": false,
    "category": "Accelerated computing",
    "gpuNum": 1,
    "hideHardwareSpecs": false,
    "memoryGiB": 16,
    "name": "ml.g5.xlarge",
    "vcpuNum": 4
   },
   {
    "_defaultOrder": 48,
    "_isFastLaunch": false,
    "category": "Accelerated computing",
    "gpuNum": 1,
    "hideHardwareSpecs": false,
    "memoryGiB": 32,
    "name": "ml.g5.2xlarge",
    "vcpuNum": 8
   },
   {
    "_defaultOrder": 49,
    "_isFastLaunch": false,
    "category": "Accelerated computing",
    "gpuNum": 1,
    "hideHardwareSpecs": false,
    "memoryGiB": 64,
    "name": "ml.g5.4xlarge",
    "vcpuNum": 16
   },
   {
    "_defaultOrder": 50,
    "_isFastLaunch": false,
    "category": "Accelerated computing",
    "gpuNum": 1,
    "hideHardwareSpecs": false,
    "memoryGiB": 128,
    "name": "ml.g5.8xlarge",
    "vcpuNum": 32
   },
   {
    "_defaultOrder": 51,
    "_isFastLaunch": false,
    "category": "Accelerated computing",
    "gpuNum": 1,
    "hideHardwareSpecs": false,
    "memoryGiB": 256,
    "name": "ml.g5.16xlarge",
    "vcpuNum": 64
   },
   {
    "_defaultOrder": 52,
    "_isFastLaunch": false,
    "category": "Accelerated computing",
    "gpuNum": 4,
    "hideHardwareSpecs": false,
    "memoryGiB": 192,
    "name": "ml.g5.12xlarge",
    "vcpuNum": 48
   },
   {
    "_defaultOrder": 53,
    "_isFastLaunch": false,
    "category": "Accelerated computing",
    "gpuNum": 4,
    "hideHardwareSpecs": false,
    "memoryGiB": 384,
    "name": "ml.g5.24xlarge",
    "vcpuNum": 96
   },
   {
    "_defaultOrder": 54,
    "_isFastLaunch": false,
    "category": "Accelerated computing",
    "gpuNum": 8,
    "hideHardwareSpecs": false,
    "memoryGiB": 768,
    "name": "ml.g5.48xlarge",
    "vcpuNum": 192
   }
  ],
  "instance_type": "ml.t3.medium",
  "kernelspec": {
   "display_name": "Python 3 (Data Science)",
   "language": "python",
   "name": "python3__SAGEMAKER_INTERNAL__arn:aws:sagemaker:us-west-2:236514542706:image/datascience-1.0"
  },
  "language_info": {
   "codemirror_mode": {
    "name": "ipython",
    "version": 3
   },
   "file_extension": ".py",
   "mimetype": "text/x-python",
   "name": "python",
   "nbconvert_exporter": "python",
   "pygments_lexer": "ipython3",
   "version": "3.7.10"
  }
 },
 "nbformat": 4,
 "nbformat_minor": 5
}
